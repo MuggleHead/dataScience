{
  "metadata": {
    "language_info": {
      "codemirror_mode": {
        "name": "python",
        "version": 3
      },
      "file_extension": ".py",
      "mimetype": "text/x-python",
      "name": "python",
      "nbconvert_exporter": "python",
      "pygments_lexer": "ipython3",
      "version": "3.8"
    },
    "kernelspec": {
      "name": "python",
      "display_name": "Python (Pyodide)",
      "language": "python"
    }
  },
  "nbformat_minor": 4,
  "nbformat": 4,
  "cells": [
    {
      "cell_type": "code",
      "source": "##Q1.  Explain with an example each when to use a for loop and a while loop.",
      "metadata": {
        "trusted": true
      },
      "execution_count": 10,
      "outputs": []
    },
    {
      "cell_type": "code",
      "source": "We use for loop when we know the exact starting and ending limit\nelse we can use the while loop\nsyntax ",
      "metadata": {},
      "execution_count": null,
      "outputs": []
    },
    {
      "cell_type": "code",
      "source": "#for loop\nl=[1,3,3,4,5]\nfor i in l:\n    print(i+1)",
      "metadata": {
        "trusted": true
      },
      "execution_count": 11,
      "outputs": [
        {
          "name": "stdout",
          "text": "2\n4\n4\n5\n6\n",
          "output_type": "stream"
        }
      ]
    },
    {
      "cell_type": "code",
      "source": "#while loop\na=1\nwhile a<=10:\n    print(a)\n    a=a+1",
      "metadata": {
        "trusted": true
      },
      "execution_count": 8,
      "outputs": [
        {
          "name": "stdout",
          "text": "1\n2\n3\n4\n5\n6\n7\n8\n9\n10\n",
          "output_type": "stream"
        }
      ]
    },
    {
      "cell_type": "code",
      "source": "#Q2.  Write a python program to print the sum and product of the first 10 natural numbers using for and while loop.",
      "metadata": {
        "trusted": true
      },
      "execution_count": 18,
      "outputs": []
    },
    {
      "cell_type": "code",
      "source": "#for loop\ns=0\nfor i in range(11):\n    s=s+i\nprint(s)",
      "metadata": {
        "trusted": true
      },
      "execution_count": 16,
      "outputs": [
        {
          "name": "stdout",
          "text": "55\n",
          "output_type": "stream"
        }
      ]
    },
    {
      "cell_type": "code",
      "source": "#while loop\ni=1;s=0;\nwhile(i<11):\n    s=s+i\n    i=i+1\nprint(s)",
      "metadata": {
        "trusted": true
      },
      "execution_count": 17,
      "outputs": [
        {
          "name": "stdout",
          "text": "55\n",
          "output_type": "stream"
        }
      ]
    },
    {
      "cell_type": "code",
      "source": "#Q3. Create a python program to compute the electricity bill for a household.\n#The per-unit charges in rupees are as follows: For the first 100 units, the user will be charged Rs. 4.5 per\n#unit, for the next 100 units, the user will be charged Rs. 6 per unit, and for the next 100 units, the user will\n#be charged Rs. 10 per unit, After 300 units and above the user will be charged Rs. 20 per unit.\n#You are required to take the units of electricity consumed in a month from the user as input.\n#Your program must pass this test case: when the unit of electricity consumed by the user in a month is 310, the total electricity bill should be 2250.\n",
      "metadata": {
        "trusted": true
      },
      "execution_count": 19,
      "outputs": []
    },
    {
      "cell_type": "code",
      "source": "units = int(input(\"units consumed: \"))\nbill=0.0\nif units <= 100:\n    bill = units * 4.5\nelif units <= 200:\n    bill = 100 * 4.5 + (units - 100) * 6\nelif units <= 300:\n    bill = 100 * 4.5 + 100 * 6 + (units - 200) * 10\nelse:\n    bill = 100 * 4.5 + 100 * 6 + 100 * 10 + (units - 300) * 20\n\nprint(\"Electricity bill is: Rs.\", bill)\n",
      "metadata": {},
      "execution_count": null,
      "outputs": []
    },
    {
      "cell_type": "code",
      "source": "\n#Q4. Create a list of numbers from 1 to 100. Use for loop and while loop to calculate the cube of each number and \n#if the cube of that number is divisible by 4 or 5 then append that number in a list and print that list.",
      "metadata": {
        "trusted": true
      },
      "execution_count": 10,
      "outputs": []
    },
    {
      "cell_type": "code",
      "source": "#for loop\ncub=0\nl=[]\nfor i in range(1,101):\n    cub=i*i*i\n    if cub%4==0 or cub%5==0:\n        l.append(i)\nprint(l)",
      "metadata": {
        "trusted": true
      },
      "execution_count": 11,
      "outputs": [
        {
          "name": "stdout",
          "text": "[2, 4, 5, 6, 8, 10, 12, 14, 15, 16, 18, 20, 22, 24, 25, 26, 28, 30, 32, 34, 35, 36, 38, 40, 42, 44, 45, 46, 48, 50, 52, 54, 55, 56, 58, 60, 62, 64, 65, 66, 68, 70, 72, 74, 75, 76, 78, 80, 82, 84, 85, 86, 88, 90, 92, 94, 95, 96, 98, 100]\n",
          "output_type": "stream"
        }
      ]
    },
    {
      "cell_type": "code",
      "source": "#while loop\ncub=0\nl=[]\ni=1\nwhile(i<=100):\n    cub=i*i*i\n    if cub%4==0 or cub%5==0:\n        l.append(i)\n    i=i+1\nprint(l)",
      "metadata": {
        "trusted": true
      },
      "execution_count": 12,
      "outputs": [
        {
          "name": "stdout",
          "text": "[2, 4, 5, 6, 8, 10, 12, 14, 15, 16, 18, 20, 22, 24, 25, 26, 28, 30, 32, 34, 35, 36, 38, 40, 42, 44, 45, 46, 48, 50, 52, 54, 55, 56, 58, 60, 62, 64, 65, 66, 68, 70, 72, 74, 75, 76, 78, 80, 82, 84, 85, 86, 88, 90, 92, 94, 95, 96, 98, 100]\n",
          "output_type": "stream"
        }
      ]
    },
    {
      "cell_type": "code",
      "source": "#Q5.  Write a program to filter count vowels in the below-given string. string = \"I want to become a data scientist",
      "metadata": {
        "trusted": true
      },
      "execution_count": 13,
      "outputs": []
    },
    {
      "cell_type": "code",
      "source": "stg=\"I want to become a data scientist\"\nc=0\nfor i in stg:\n    if i=='a' or i=='e' or i=='i' or i=='u' or i=='o':\n        c=c+1\nprint(c)",
      "metadata": {
        "trusted": true
      },
      "execution_count": 15,
      "outputs": [
        {
          "name": "stdout",
          "text": "11\n",
          "output_type": "stream"
        }
      ]
    },
    {
      "cell_type": "code",
      "source": "",
      "metadata": {},
      "execution_count": null,
      "outputs": []
    },
    {
      "cell_type": "code",
      "source": "",
      "metadata": {},
      "execution_count": null,
      "outputs": []
    }
  ]
}