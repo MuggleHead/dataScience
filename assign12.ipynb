{
  "metadata": {
    "language_info": {
      "codemirror_mode": {
        "name": "python",
        "version": 3
      },
      "file_extension": ".py",
      "mimetype": "text/x-python",
      "name": "python",
      "nbconvert_exporter": "python",
      "pygments_lexer": "ipython3",
      "version": "3.8"
    },
    "kernelspec": {
      "name": "python",
      "display_name": "Python (Pyodide)",
      "language": "python"
    }
  },
  "nbformat_minor": 4,
  "nbformat": 4,
  "cells": [
    {
      "cell_type": "code",
      "source": "#Q1. What is an Exception in python? Write the difference between Exceptions and Syntax errors\n",
      "metadata": {
        "trusted": true
      },
      "execution_count": 1,
      "outputs": []
    },
    {
      "cell_type": "code",
      "source": "#An exception is an event that occurs during the execution of a program, which disrupts the normal flow of the program's instructions. When an exceptional condition arises, an exception is raised, and if it is not handled properly, it can cause the program to terminate.\n#Exceptions are typically caused by errors in the program's logic, external factors like user input, or exceptional conditions such as a file not found. Examples of common exceptions in Python include `TypeError`, `ValueError`, `FileNotFoundError`, and `ZeroDivisionError`.\n#Syntax errors, on the other hand, are different from exceptions. They occur when the Python interpreter encounters code that violates the language's rules regarding syntax. These errors indicate that the program's code is not written correctly and cannot be parsed by the interpreter. Examples of syntax errors include missing colons, invalid indentation, or incorrect usage of keywords.\n#Differences between exceptions and syntax errors:\n#1. **Cause**: Exceptions occur during the runtime of a program when a specific condition is met or an error is encountered. Syntax errors, on the other hand, occur before the program begins execution when the code is being parsed and checked for syntax correctness.\n#2. **Detection**: Exceptions are detected at runtime when the program is executing. Syntax errors are detected by the Python interpreter during the parsing phase, before the program starts running.\n#3. **Handling**: Exceptions can be caught and handled using `try` and `except` blocks. By handling exceptions, you can gracefully deal with errors and prevent the program from crashing. Syntax errors, however, need to be fixed in the code itself. They require correcting the syntax violation for the code to run successfully.\n#4. **Impact**: Exceptions can be raised and caught at different points in the program, allowing for localized error handling. They provide a mechanism to recover from exceptional situations and continue program execution. Syntax errors prevent the program from running altogether until they are fixed, as the interpreter cannot understand the code.",
      "metadata": {
        "trusted": true
      },
      "execution_count": 2,
      "outputs": []
    },
    {
      "cell_type": "code",
      "source": "#Q2. What happens when an exception is not handled? Explain with an example\n#When an exception is not handled, it propagates up the call stack until it reaches the top-level of the program\n#or an exception handler that can handle it. If no suitable exception handler is found, \n#the program terminates, and an error message is displayed, indicating the unhandled exception and its traceback.",
      "metadata": {
        "trusted": true
      },
      "execution_count": 3,
      "outputs": []
    },
    {
      "cell_type": "code",
      "source": "def divide_numbers(a, b):\n    return a / b\n\ndef calculate_average(numbers):\n    total = sum(numbers)\n    average = divide_numbers(total, len(numbers))\n    return average\n\ntry:\n    numbers = [1, 2, 3, 4, 5]\n    average = calculate_average(numbers)\n    print(\"Average:\", average)\nexcept ZeroDivisionError:\n    print(\"Cannot divide by zero.\")\n\nprint(\"Program continues...\")\n",
      "metadata": {
        "trusted": true
      },
      "execution_count": 4,
      "outputs": [
        {
          "name": "stdout",
          "text": "Average: 3.0\nProgram continues...\n",
          "output_type": "stream"
        }
      ]
    },
    {
      "cell_type": "code",
      "source": "#Q3. Which Python statements are used to catch and handle exceptions? Explain with an example\n#the try and except statements are used to catch and handle exceptions. The try block contains the code that might raise an exception, and the except block specifies how to handle the exception if it occurs.",
      "metadata": {
        "trusted": true
      },
      "execution_count": 5,
      "outputs": []
    },
    {
      "cell_type": "code",
      "source": "def divide_numbers(a, b):\n    try:\n        result = a / b\n        print(\"Division result:\", result)\n    except ZeroDivisionError:\n        print(\"Cannot divide by zero.\")\n\ndivide_numbers(10, 2)\ndivide_numbers(5, 0)\n",
      "metadata": {
        "trusted": true
      },
      "execution_count": 6,
      "outputs": [
        {
          "name": "stdout",
          "text": "Division result: 5.0\nCannot divide by zero.\n",
          "output_type": "stream"
        }
      ]
    },
    {
      "cell_type": "code",
      "source": "#Q4. Explain with an example:\n#a. try and else\n#b. finally\n#c. raise\n",
      "metadata": {},
      "execution_count": null,
      "outputs": []
    },
    {
      "cell_type": "code",
      "source": "#TRY AND ELSE\ndef divide_numbers(a, b):\n    try:\n        result = a / b\n    except ZeroDivisionError:\n        print(\"Cannot divide by zero.\")\n    else:\n        print(\"Division result:\", result)\n\ndivide_numbers(10, 2)\ndivide_numbers(5, 0)\n",
      "metadata": {
        "trusted": true
      },
      "execution_count": 7,
      "outputs": [
        {
          "name": "stdout",
          "text": "Division result: 5.0\nCannot divide by zero.\n",
          "output_type": "stream"
        }
      ]
    },
    {
      "cell_type": "code",
      "source": "def open_file(filename):\n    try:\n        file = open(filename, 'r')\n        content = file.read()\n        print(\"File content:\", content)\n    except FileNotFoundError:\n        print(\"File not found.\")\n    finally:\n        file.close()\n\nopen_file(\"example.txt\")\nopen_file(\"nonexistent.txt\")\n",
      "metadata": {},
      "execution_count": null,
      "outputs": []
    },
    {
      "cell_type": "code",
      "source": "#RAISE\ndef calculate_factorial(n):\n    if n < 0:\n        raise ValueError(\"Factorial is undefined for negative numbers.\")\n    factorial = 1\n    for i in range(1, n + 1):\n        factorial *= i\n    return factorial\n\ntry:\n    result = calculate_factorial(5)\n    print(\"Factorial:\", result)\n    calculate_factorial(-1)\nexcept ValueError as error:",
      "metadata": {},
      "execution_count": null,
      "outputs": []
    },
    {
      "cell_type": "code",
      "source": "#Q5. What are Custom Exceptions in python? Why do we need Custom Exceptions? Explain with an example\n",
      "metadata": {},
      "execution_count": null,
      "outputs": []
    },
    {
      "cell_type": "code",
      "source": "Custom exceptions are user-defined exception classes that inherit from the built-in `Exception` class or any of its subclasses. \nThey allow you to define your own exception types to handle specific exceptional situations in your code.\nCustom exceptions are useful for several reasons:\n\n1. **Better error handling**\n2. **Code organization**\n3. **Domain-specific behavior**\n\nclass InsufficientFundsError(Exception):\n    def __init__(self, amount, balance):\n        self.amount = amount\n        self.balance = balance\n        message = f\"Insufficient funds. Amount: {amount}, Balance: {balance}\"\n        super().__init__(message)\n\ndef withdraw(amount, balance):\n    if amount > balance:\n        raise InsufficientFundsError(amount, balance)\n    else:\n        print(\"Withdrawal successful.\")\n\ntry:\n    withdraw(100, 50)\nexcept InsufficientFundsError as error:\n    print(error)\n",
      "metadata": {},
      "execution_count": null,
      "outputs": []
    },
    {
      "cell_type": "code",
      "source": "#Q6. Create a custom exception class. Use this class to handle an exception.",
      "metadata": {},
      "execution_count": null,
      "outputs": []
    },
    {
      "cell_type": "code",
      "source": "class InvalidEmailError(Exception):\n    def __init__(self, email):\n        self.email = email\n        message = f\"The email '{email}' is invalid.\"\n        super().__init__(message)\n\ndef validate_email(email):\n    if \"@\" not in email:\n        raise InvalidEmailError(email)\n    else:\n        print(\"Email validation successful.\")\n\ntry:\n    email = \"example.com\"\n    validate_email(email)\nexcept InvalidEmailError as error:\n    print(error)\n",
      "metadata": {
        "trusted": true
      },
      "execution_count": 10,
      "outputs": [
        {
          "name": "stdout",
          "text": "The email 'example.com' is invalid.\n",
          "output_type": "stream"
        }
      ]
    },
    {
      "cell_type": "code",
      "source": "",
      "metadata": {},
      "execution_count": null,
      "outputs": []
    }
  ]
}