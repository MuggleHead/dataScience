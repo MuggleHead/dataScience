{
  "metadata": {
    "language_info": {
      "codemirror_mode": {
        "name": "python",
        "version": 3
      },
      "file_extension": ".py",
      "mimetype": "text/x-python",
      "name": "python",
      "nbconvert_exporter": "python",
      "pygments_lexer": "ipython3",
      "version": "3.8"
    },
    "kernelspec": {
      "name": "python",
      "display_name": "Python (Pyodide)",
      "language": "python"
    }
  },
  "nbformat_minor": 4,
  "nbformat": 4,
  "cells": [
    {
      "cell_type": "code",
      "source": "#Q1. What is a database? Differentiate between SQL and NoSQL databases.",
      "metadata": {
        "trusted": true
      },
      "execution_count": 1,
      "outputs": []
    },
    {
      "cell_type": "code",
      "source": "#A database is a structured collection of data that is organized and stored for easy access, retrieval, and management. \n#It provides a way to store, retrieve, modify, and analyze data efficiently.\n#SQL (Structured Query Language) and NoSQL (Not only SQL) are two different types of database management systems:\n#SQL databases are relational databases that use structured schemas and tables to store and organize data.\n#They have a predefined schema that specifies the structure of the data and the relationships between different tables. \n#SQL databases are known for their strong consistency, ACID (Atomicity, Consistency, Isolation, Durability) properties, and support for complex queries using SQL.\n#NoSQL databases, on the other hand, are non-relational databases that offer a flexible schema. \n#They can handle unstructured and semi-structured data, making them suitable for handling large volumes of diverse data types.\n#NoSQL databases provide high scalability, availability, and faster data processing. They use various data models like key-value pairs, document stores, wide-column stores, or graph databases.",
      "metadata": {
        "trusted": true
      },
      "execution_count": 2,
      "outputs": []
    },
    {
      "cell_type": "code",
      "source": "#Q2. What is DDL? Explain why CREATE, DROP, ALTER, and TRUNCATE are used with an example.\n",
      "metadata": {
        "trusted": true
      },
      "execution_count": 3,
      "outputs": []
    },
    {
      "cell_type": "code",
      "source": "#DDL (Data Definition Language) is a subset of SQL used to define and manage the structure of the database.\n#CREATE: The CREATE command is used to create a new database, table, view, index, or other database objects. \n#For example, to create a new table named \"students\" with columns for \"id,\" \"name,\" and \"marks,\" \n#CREATE TABLE students (\n#    id INT PRIMARY KEY,\n#    name VARCHAR(50),\n#    marks VARCHAR(100)\n#);\n#DROP: The DROP command is used to delete an existing database, table, view, index, or other database objects.\n#For example, to drop the \"students\" table created above:\n#DROP TABLE s;tudents\n#ALTER: The ALTER command is used to modify the structure of an existing database object, such as adding or deleting columns from a table.\n#For example, to add a new column named \"age\" to the \"students\"\n#ALTER TABLE students\n#ADD COLUMN age INT;\n#TRUNCATE: The TRUNCATE command is used to remove all rows from a table, while keeping the structure intact. It is faster than using DELETE to remove all rows. \n#For example, to remove all rows from the \"students\" table:\n#TRUNCATE TABLE students;",
      "metadata": {
        "trusted": true
      },
      "execution_count": 4,
      "outputs": []
    },
    {
      "cell_type": "code",
      "source": "#Q3. What is DML? Explain INSERT, UPDATE, and DELETE with an example.",
      "metadata": {
        "trusted": true
      },
      "execution_count": 5,
      "outputs": []
    },
    {
      "cell_type": "code",
      "source": "#DML (Data Manipulation Language) is a subset of SQL used to manipulate and modify data within a database. \n#It includes commands such as INSERT, UPDATE, and DELETE\n#INSERT: The INSERT command is used to insert new rows into a table. It allows you to specify the values for each column or insert data from another table.\n#For example, to insert a new student with an ID of 1, name \"vishu\" and marks 56 into the \"students\" table\n#INSERT INTO students (id, name, marks)\n#VALUES (1, 'vishu', 56);\n\n#UPDATE: The UPDATE command is used to modify existing data in a table. It allows you to update specific columns or rows based on certain conditions. \n#For example, to update the marks of the students with an ID of 1 to 56 in the \"student\" table\n#UPDATE students\n#SET marks = 53\n#WHERE id = 1;\n\n#DELETE: The DELETE command is used to remove specific rows from a table based on certain conditions. It allows you to delete data from a table while maintaining the table's structure. \n#For example, to delete the student with an ID of 1 from the \"student\" table:\n#DELETE FROM student\n#WHERE id = 1;",
      "metadata": {
        "trusted": true
      },
      "execution_count": 6,
      "outputs": []
    },
    {
      "cell_type": "code",
      "source": "#Q4. What is DQL? Explain SELECT with an example.",
      "metadata": {
        "trusted": true
      },
      "execution_count": 8,
      "outputs": []
    },
    {
      "cell_type": "code",
      "source": "#DQL (Data Query Language) is a subset of SQL used to retrieve and query data from a database. The most commonly used command in DQL is SELECT, which is used to retrieve data from one or more tables based on specified criteria. The SELECT command is structured as follows:\n\n#SELECT column1, column2, ...\n#FROM table_name\n#WHERE condition;",
      "metadata": {
        "trusted": true
      },
      "execution_count": 9,
      "outputs": []
    },
    {
      "cell_type": "code",
      "source": "#Q5. Explain Primary Key and Foreign Key.\n",
      "metadata": {
        "trusted": true
      },
      "execution_count": 10,
      "outputs": []
    },
    {
      "cell_type": "code",
      "source": "#Primary Key:\n#A primary key is a column or a set of columns in a database table that uniquely identifies each record in the table. It serves as a unique identifier for each row, ensuring data integrity and providing a means to establish relationships between tables. The primary key constraint ensures that the values in the primary key column(s) are unique and not null. Every table should have a primary key defined.\n#Uniqueness: Each value in the primary key column(s) must be unique, ensuring that no two records in the table have the same key value.\n#Non-nullability: A primary key column cannot contain null values. Each record must have a valid primary key value.\n#Immutable: The primary key values should not change over time. If needed, it is better to create a new record rather than modify the primary key value.\n\n#Foreign Key:\n#A foreign key is a column or a set of columns in a database table that refers to the primary key in another table. It establishes a relationship between two tables, known as the parent table (the one with the primary key) and the child table (the one with the foreign key). The foreign key constraint ensures referential integrity, enforcing that values in the foreign key column(s) correspond to existing values in the referenced primary key column(s).\n#Referential Integrity: The foreign key ensures that the values in the child table's foreign key column(s) match the values in the parent table's primary key column(s).\n#Relationship Establishment: A foreign key establishes relationships between tables, allowing you to connect related data across multiple tables.\n#Cascading Actions: You can define cascading actions on foreign keys, specifying what should happen when a referenced primary key value is modified or deleted. Actions like CASCADE, SET NULL, SET DEFAULT, or NO ACTION can be defined to maintain data consistency.",
      "metadata": {
        "trusted": true
      },
      "execution_count": 11,
      "outputs": []
    },
    {
      "cell_type": "code",
      "source": "#Q6. Write a python code to connect MySQL to python. Explain the cursor() and execute() method.\n",
      "metadata": {
        "trusted": true
      },
      "execution_count": 12,
      "outputs": []
    },
    {
      "cell_type": "code",
      "source": "import mysql.connector\n\n# Establish a connection to the MySQL database\nconnection = mysql.connector.connect(\n    host=\"localhost\",\n    user=\"username\",\n    password=\"your_password\",\n    database=\"your_database\"\n)\n\n# Create a cursor object to execute SQL queries\ncursor = connection.cursor()\n\n# Execute a SQL query\nquery = \"SELECT * FROM your_table\"\ncursor.execute(query)\n\n\n# Close the cursor and connection\ncursor.close()\nconnection.close()\n",
      "metadata": {
        "trusted": true
      },
      "execution_count": null,
      "outputs": []
    },
    {
      "cell_type": "code",
      "source": "#you create a cursor object by calling the cursor() method on the connection. The cursor allows you to execute SQL queries and fetch results.\n#You can execute SQL queries using the execute() method of the cursor. Pass the SQL query as a string parameter to the execute() method.",
      "metadata": {},
      "execution_count": null,
      "outputs": []
    },
    {
      "cell_type": "code",
      "source": "#Q7. Give the order of execution of SQL clauses in an SQL query.",
      "metadata": {},
      "execution_count": null,
      "outputs": []
    },
    {
      "cell_type": "code",
      "source": "#SELECT: The SELECT clause is executed first to determine which columns or expressions to include in the result set. It specifies the data to be retrieved from the database.\n#FROM: The FROM clause is executed next to specify the table or tables from which the data is retrieved. It identifies the source of the data.\n#WHERE: The WHERE clause is executed after the FROM clause to filter the rows based on specified conditions. It narrows down the result set by applying logical conditions.\n#GROUP BY: If a GROUP BY clause is present, it is executed after the WHERE clause. It groups the rows based on specified columns or expressions.\n#HAVING: If a HAVING clause is present, it is executed after the GROUP BY clause. It filters the grouped rows based on specified conditions.\n#ORDER BY: The ORDER BY clause is executed after the HAVING clause (if present) to sort the result set based on specified columns or expressions.\n#LIMIT/OFFSET: If a LIMIT or OFFSET clause is specified, it is executed last. It limits the number of rows returned in the result set or specifies the starting point of the result set.",
      "metadata": {},
      "execution_count": null,
      "outputs": []
    }
  ]
}