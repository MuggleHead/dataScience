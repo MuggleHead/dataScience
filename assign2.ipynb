{
  "metadata": {
    "language_info": {
      "codemirror_mode": {
        "name": "python",
        "version": 3
      },
      "file_extension": ".py",
      "mimetype": "text/x-python",
      "name": "python",
      "nbconvert_exporter": "python",
      "pygments_lexer": "ipython3",
      "version": "3.8"
    },
    "kernelspec": {
      "name": "python",
      "display_name": "Python (Pyodide)",
      "language": "python"
    }
  },
  "nbformat_minor": 4,
  "nbformat": 4,
  "cells": [
    {
      "cell_type": "code",
      "source": "#Q1. Which keyword is used to create a function? Create a function to return a list of odd numbers in the range of 1 to 25.",
      "metadata": {
        "trusted": true
      },
      "execution_count": 12,
      "outputs": []
    },
    {
      "cell_type": "code",
      "source": "def keyword is used to create a function",
      "metadata": {},
      "execution_count": null,
      "outputs": []
    },
    {
      "cell_type": "code",
      "source": "l=[]\ndef odd():\n    for i in range(1,26):\n        if i%2!=0:\n            l.append(i)  \n    return l\nodd()\n",
      "metadata": {
        "trusted": true
      },
      "execution_count": 13,
      "outputs": [
        {
          "execution_count": 13,
          "output_type": "execute_result",
          "data": {
            "text/plain": "[1, 3, 5, 7, 9, 11, 13, 15, 17, 19, 21, 23, 25]"
          },
          "metadata": {}
        }
      ]
    },
    {
      "cell_type": "code",
      "source": "#Q2. Why *args and **kwargs is used in some functions? Create a function each for *args and **kwargs to demonstrate their use.\n*args is used to pass a variable number of positional arguments to a function.\n**kwargs is used to pass a variable number of keyword arguments to a function.\n",
      "metadata": {
        "trusted": true
      },
      "execution_count": 16,
      "outputs": []
    },
    {
      "cell_type": "code",
      "source": "#*args\ndef my_function(*args):\n    for arg in args:\n        print(arg)\n\nmy_function(1, 2, \"hi\")\n",
      "metadata": {
        "trusted": true
      },
      "execution_count": 17,
      "outputs": [
        {
          "name": "stdout",
          "text": "1\n2\nhi\n",
          "output_type": "stream"
        }
      ]
    },
    {
      "cell_type": "code",
      "source": "#**kwargs\ndef my_function(**kwargs):\n    for key, value in kwargs.items():\n        print(key, value)\n\nmy_function(name=\"vishu\", city=\"kanpur\")\n",
      "metadata": {
        "trusted": true
      },
      "execution_count": 19,
      "outputs": [
        {
          "name": "stdout",
          "text": "name vishu\ncity kanpur\n",
          "output_type": "stream"
        }
      ]
    },
    {
      "cell_type": "code",
      "source": "#Q3. What is an iterator in python? Name the method used to initialise the iterator object and the method used for iteration.\n#Use these methods to print the first five elements of the given list [2, 4, 6, 8, 10, 12, 14,16, 18, 20].\nan iterator is an object that allows you to traverse through a collection of data one element at a time. \n__iter__() and __next__(). The __iter__() method returns the iterator object itself, while the __next__() \nmethod returns the next value in the sequence. ",
      "metadata": {
        "trusted": true
      },
      "execution_count": 21,
      "outputs": []
    },
    {
      "cell_type": "code",
      "source": "l=[2, 4, 6, 8, 10, 12, 14,16, 18, 20]\ns1=iter(l)\nnext(s1)",
      "metadata": {
        "trusted": true
      },
      "execution_count": 23,
      "outputs": [
        {
          "execution_count": 23,
          "output_type": "execute_result",
          "data": {
            "text/plain": "2"
          },
          "metadata": {}
        }
      ]
    },
    {
      "cell_type": "code",
      "source": "next(s1)",
      "metadata": {
        "trusted": true
      },
      "execution_count": 24,
      "outputs": [
        {
          "execution_count": 24,
          "output_type": "execute_result",
          "data": {
            "text/plain": "4"
          },
          "metadata": {}
        }
      ]
    },
    {
      "cell_type": "code",
      "source": "next(s1)",
      "metadata": {
        "trusted": true
      },
      "execution_count": 25,
      "outputs": [
        {
          "execution_count": 25,
          "output_type": "execute_result",
          "data": {
            "text/plain": "6"
          },
          "metadata": {}
        }
      ]
    },
    {
      "cell_type": "code",
      "source": "next(s1)",
      "metadata": {
        "trusted": true
      },
      "execution_count": 26,
      "outputs": [
        {
          "execution_count": 26,
          "output_type": "execute_result",
          "data": {
            "text/plain": "8"
          },
          "metadata": {}
        }
      ]
    },
    {
      "cell_type": "code",
      "source": "#Q4. What is a generator function in python? Why yield keyword is used? Give an example of a generator function.\na generator function is a special type of function that can be used to create an iterator. The yield keyword is used in Python to create a generator function. ",
      "metadata": {},
      "execution_count": null,
      "outputs": []
    },
    {
      "cell_type": "code",
      "source": "def fib_test(n):\n    a,b=0,1\n    for i in range(n):\n        yield a\n        a,b=b,a+b",
      "metadata": {
        "trusted": true
      },
      "execution_count": 27,
      "outputs": []
    },
    {
      "cell_type": "code",
      "source": "for i in fib_test(5):\n    print(i)",
      "metadata": {
        "trusted": true
      },
      "execution_count": 30,
      "outputs": [
        {
          "name": "stdout",
          "text": "0\n1\n1\n2\n3\n",
          "output_type": "stream"
        }
      ]
    },
    {
      "cell_type": "code",
      "source": "#Q5. Create a generator function for prime numbers less than 1000. Use the next() method to print the first 20 prime numbers.",
      "metadata": {
        "trusted": true
      },
      "execution_count": 1,
      "outputs": []
    },
    {
      "cell_type": "code",
      "source": "def primes():\n    yield 2\n    for num in range(3, 1000, 2):\n        for divisor in range(3, int(num ** 0.5) + 1, 2):\n            if num % divisor == 0:\n                break\n        else:\n            yield num\n\nprime_generator = primes()\n\nfor i in range(20):\n    print(next(prime_generator))\n",
      "metadata": {
        "trusted": true
      },
      "execution_count": 2,
      "outputs": [
        {
          "name": "stdout",
          "text": "2\n3\n5\n7\n11\n13\n17\n19\n23\n29\n31\n37\n41\n43\n47\n53\n59\n61\n67\n71\n",
          "output_type": "stream"
        }
      ]
    },
    {
      "cell_type": "code",
      "source": "#Q6. Write a python program to print the first 10 Fibonacci numbers using a while loop.",
      "metadata": {
        "trusted": true
      },
      "execution_count": 7,
      "outputs": []
    },
    {
      "cell_type": "code",
      "source": "def test_fib():\n    a,b=0,1\n    while True:\n        yield a\n        a,b=b,a+b\nfib=test_fib()\nfor i in range(10):\n    print(next(fib))\n    \n",
      "metadata": {
        "trusted": true
      },
      "execution_count": 8,
      "outputs": [
        {
          "name": "stdout",
          "text": "0\n1\n1\n2\n3\n5\n8\n13\n21\n34\n",
          "output_type": "stream"
        }
      ]
    },
    {
      "cell_type": "code",
      "source": "#Q7. Write a List Comprehension to iterate through the given string: ‘pwskills’. Expected output: ['p', 'w', 's', 'k', 'i', 'l', 'l', 's']",
      "metadata": {
        "trusted": true
      },
      "execution_count": 9,
      "outputs": []
    },
    {
      "cell_type": "code",
      "source": "s=\"pwskills\"\n[i for i in s]",
      "metadata": {
        "trusted": true
      },
      "execution_count": 10,
      "outputs": [
        {
          "execution_count": 10,
          "output_type": "execute_result",
          "data": {
            "text/plain": "['p', 'w', 's', 'k', 'i', 'l', 'l', 's']"
          },
          "metadata": {}
        }
      ]
    },
    {
      "cell_type": "code",
      "source": "#Q8. Write a python program to check whether a given number is Palindrome or not using a while loop.",
      "metadata": {
        "trusted": true
      },
      "execution_count": 11,
      "outputs": []
    },
    {
      "cell_type": "code",
      "source": "n=int(input(\"Enter\"))\nrev=0\ntemp=n\nprint(n)\nwhile temp!=0:\n    m=temp%10\n    temp=temp//10\n    rev=(rev*10)+m\nif rev==n:\n    print(\"palindrome\")\nelse:\n    print(\"not\")\n",
      "metadata": {
        "trusted": true
      },
      "execution_count": 16,
      "outputs": []
    },
    {
      "cell_type": "code",
      "source": "\n#Q9. Write a code to print odd numbers from 1 to 100 using list comprehension.\n#Note: Use a list comprehension to create a list from 1 to 100 and use another List comprehension to filter out odd numbers.",
      "metadata": {
        "trusted": true
      },
      "execution_count": 17,
      "outputs": []
    },
    {
      "cell_type": "code",
      "source": "odd_numbers = [num for num in range(1, 101) if num % 2 != 0]\n\nprint(odd_numbers)\n",
      "metadata": {
        "trusted": true
      },
      "execution_count": 20,
      "outputs": [
        {
          "name": "stdout",
          "text": "[1, 3, 5, 7, 9, 11, 13, 15, 17, 19, 21, 23, 25, 27, 29, 31, 33, 35, 37, 39, 41, 43, 45, 47, 49, 51, 53, 55, 57, 59, 61, 63, 65, 67, 69, 71, 73, 75, 77, 79, 81, 83, 85, 87, 89, 91, 93, 95, 97, 99]\n",
          "output_type": "stream"
        }
      ]
    },
    {
      "cell_type": "code",
      "source": "",
      "metadata": {},
      "execution_count": null,
      "outputs": []
    }
  ]
}